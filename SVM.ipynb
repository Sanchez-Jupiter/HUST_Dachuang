{
 "cells": [
  {
   "cell_type": "code",
   "execution_count": 1,
   "metadata": {},
   "outputs": [
    {
     "name": "stdout",
     "output_type": "stream",
     "text": [
      "Accuracy: 1.0\n",
      "Classification Report:\n",
      "              precision    recall  f1-score   support\n",
      "\n",
      "           0       1.00      1.00      1.00        19\n",
      "           1       1.00      1.00      1.00        13\n",
      "           2       1.00      1.00      1.00        13\n",
      "\n",
      "    accuracy                           1.00        45\n",
      "   macro avg       1.00      1.00      1.00        45\n",
      "weighted avg       1.00      1.00      1.00        45\n",
      "\n"
     ]
    }
   ],
   "source": [
    "# 导入所需的库\n",
    "from sklearn import datasets\n",
    "from sklearn.model_selection import train_test_split\n",
    "from sklearn.svm import SVC\n",
    "from sklearn.metrics import classification_report, accuracy_score\n",
    "\n",
    "# 加载鸢尾花数据集\n",
    "iris = datasets.load_iris()\n",
    "X = iris.data  # 特征\n",
    "y = iris.target  # 标签\n",
    "\n",
    "# 划分训练集和测试集\n",
    "X_train, X_test, y_train, y_test = train_test_split(X, y, test_size=0.3, random_state=42)\n",
    "\n",
    "# 创建支持向量机模型，使用RBF核\n",
    "model = SVC(kernel='rbf', gamma='scale')\n",
    "\n",
    "# 训练模型\n",
    "model.fit(X_train, y_train)\n",
    "\n",
    "# 在测试集上进行预测\n",
    "y_pred = model.predict(X_test)\n",
    "\n",
    "# 输出准确率和分类报告\n",
    "print(f\"Accuracy: {accuracy_score(y_test, y_pred)}\")\n",
    "print(\"Classification Report:\")\n",
    "print(classification_report(y_test, y_pred))\n",
    "\n"
   ]
  },
  {
   "cell_type": "code",
   "execution_count": 1,
   "metadata": {},
   "outputs": [],
   "source": [
    "import numpy as np\n",
    "\n",
    "class LinearSVM:\n",
    "    def __init__(self, learning_rate=0.001, regularization_param=0.01, max_iter=1000):\n",
    "        self.learning_rate = learning_rate  # 学习率\n",
    "        self.regularization_param = regularization_param  # 正则化参数\n",
    "        self.max_iter = max_iter  # 最大迭代次数\n",
    "\n",
    "    def fit(self, X, y):\n",
    "        # 初始化参数\n",
    "        self.w = np.zeros(X.shape[1])\n",
    "        self.b = 0\n",
    "\n",
    "        m = X.shape[0]\n",
    "\n",
    "        # 梯度下降法\n",
    "        for i in range(self.max_iter):\n",
    "            # 计算预测值\n",
    "            margins = y * (np.dot(X, self.w) + self.b)\n",
    "\n",
    "            # 计算梯度\n",
    "            dw = np.zeros_like(self.w)\n",
    "            db = 0\n",
    "\n",
    "            for j in range(m):\n",
    "                if margins[j] >= 1:\n",
    "                    dw += self.regularization_param * self.w\n",
    "                else:\n",
    "                    dw += self.regularization_param * self.w - np.dot(X[j], y[j])\n",
    "                    db += y[j]\n",
    "\n",
    "            # 更新参数\n",
    "            self.w -= self.learning_rate * dw\n",
    "            self.b -= self.learning_rate * db\n",
    "\n",
    "    def predict(self, X):\n",
    "        # 预测函数\n",
    "        return np.sign(np.dot(X, self.w) + self.b)\n",
    "\n",
    "    def decision_function(self, X):\n",
    "        # 决策函数\n",
    "        return np.dot(X, self.w) + self.b\n"
   ]
  },
  {
   "cell_type": "code",
   "execution_count": 2,
   "metadata": {},
   "outputs": [
    {
     "name": "stdout",
     "output_type": "stream",
     "text": [
      "Accuracy: 0.5666666666666667\n"
     ]
    }
   ],
   "source": [
    "from sklearn.model_selection import train_test_split\n",
    "from sklearn.datasets import load_iris\n",
    "from sklearn.preprocessing import StandardScaler\n",
    "from sklearn.metrics import accuracy_score\n",
    "\n",
    "# 加载数据集\n",
    "iris = load_iris()\n",
    "X = iris.data\n",
    "y = iris.target\n",
    "\n",
    "# 只选择前两类进行二分类\n",
    "X = X[y != 2]\n",
    "y = y[y != 2]\n",
    "y = 2 * y - 1  # 转换为-1和+1\n",
    "\n",
    "# 数据标准化\n",
    "scaler = StandardScaler()\n",
    "X = scaler.fit_transform(X)\n",
    "\n",
    "# 划分训练集和测试集\n",
    "X_train, X_test, y_train, y_test = train_test_split(X, y, test_size=0.3, random_state=42)\n",
    "\n",
    "# 创建SVM模型并训练\n",
    "svm = LinearSVM(learning_rate=0.01, regularization_param=0.01, max_iter=1000)\n",
    "svm.fit(X_train, y_train)\n",
    "\n",
    "# 预测并评估\n",
    "y_pred = svm.predict(X_test)\n",
    "print(f\"Accuracy: {accuracy_score(y_test, y_pred)}\")\n"
   ]
  }
 ],
 "metadata": {
  "kernelspec": {
   "display_name": "new",
   "language": "python",
   "name": "python3"
  },
  "language_info": {
   "codemirror_mode": {
    "name": "ipython",
    "version": 3
   },
   "file_extension": ".py",
   "mimetype": "text/x-python",
   "name": "python",
   "nbconvert_exporter": "python",
   "pygments_lexer": "ipython3",
   "version": "3.8.8"
  }
 },
 "nbformat": 4,
 "nbformat_minor": 2
}
